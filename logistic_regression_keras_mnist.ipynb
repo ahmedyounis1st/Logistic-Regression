{
  "nbformat": 4,
  "nbformat_minor": 0,
  "metadata": {
    "colab": {
      "name": "logistic_regression_keras.ipynb",
      "provenance": []
    },
    "kernelspec": {
      "name": "python3",
      "display_name": "Python 3"
    },
    "language_info": {
      "name": "python"
    },
    "accelerator": "GPU"
  },
  "cells": [
    {
      "cell_type": "code",
      "execution_count": 1,
      "metadata": {
        "colab": {
          "base_uri": "https://localhost:8080/"
        },
        "id": "G8rDIaLsXHDz",
        "outputId": "bbe5bbda-a94a-4651-860c-79ccbd684ae1"
      },
      "outputs": [
        {
          "output_type": "stream",
          "name": "stdout",
          "text": [
            "2.8.0\n"
          ]
        }
      ],
      "source": [
        "import numpy as np\n",
        "from tensorflow import keras\n",
        "print (keras.__version__)\n"
      ]
    },
    {
      "cell_type": "code",
      "source": [
        "from keras.datasets import mnist\n",
        "(X_train, y_train), (X_test, y_test) = mnist.load_data()\n"
      ],
      "metadata": {
        "id": "bxhXidorXwU8",
        "colab": {
          "base_uri": "https://localhost:8080/"
        },
        "outputId": "c0b5247d-f22b-4309-c76a-218ea0ead602"
      },
      "execution_count": 2,
      "outputs": [
        {
          "output_type": "stream",
          "name": "stdout",
          "text": [
            "Downloading data from https://storage.googleapis.com/tensorflow/tf-keras-datasets/mnist.npz\n",
            "11493376/11490434 [==============================] - 1s 0us/step\n",
            "11501568/11490434 [==============================] - 1s 0us/step\n"
          ]
        }
      ]
    },
    {
      "cell_type": "code",
      "source": [
        "X_train.shape"
      ],
      "metadata": {
        "colab": {
          "base_uri": "https://localhost:8080/"
        },
        "id": "0HZICpafYUGQ",
        "outputId": "bb5a1a49-5639-4c28-b15d-7e2c91e4db32"
      },
      "execution_count": 3,
      "outputs": [
        {
          "output_type": "execute_result",
          "data": {
            "text/plain": [
              "(60000, 28, 28)"
            ]
          },
          "metadata": {},
          "execution_count": 3
        }
      ]
    },
    {
      "cell_type": "code",
      "source": [
        "from collections import Counter\n",
        "Counter(y_train)"
      ],
      "metadata": {
        "colab": {
          "base_uri": "https://localhost:8080/"
        },
        "id": "6XlSgo9UYoEE",
        "outputId": "63a4e355-7959-47a0-b55b-2d3cb544fbff"
      },
      "execution_count": 4,
      "outputs": [
        {
          "output_type": "execute_result",
          "data": {
            "text/plain": [
              "Counter({0: 5923,\n",
              "         1: 6742,\n",
              "         2: 5958,\n",
              "         3: 6131,\n",
              "         4: 5842,\n",
              "         5: 5421,\n",
              "         6: 5918,\n",
              "         7: 6265,\n",
              "         8: 5851,\n",
              "         9: 5949})"
            ]
          },
          "metadata": {},
          "execution_count": 4
        }
      ]
    },
    {
      "cell_type": "code",
      "source": [
        "X_train_final = X_train.reshape(-1,784)\n",
        "X_train_final.shape"
      ],
      "metadata": {
        "colab": {
          "base_uri": "https://localhost:8080/"
        },
        "id": "zNt4qckKY0EF",
        "outputId": "b03638f5-92d0-4914-d0d5-4a4d194fff22"
      },
      "execution_count": 5,
      "outputs": [
        {
          "output_type": "execute_result",
          "data": {
            "text/plain": [
              "(60000, 784)"
            ]
          },
          "metadata": {},
          "execution_count": 5
        }
      ]
    },
    {
      "cell_type": "code",
      "source": [
        "X_test_final = X_test.reshape(-1,784)\n",
        "X_test_final.shape"
      ],
      "metadata": {
        "colab": {
          "base_uri": "https://localhost:8080/"
        },
        "id": "ZT4eR4aZZ950",
        "outputId": "342d12d0-3fe0-416c-a117-71a40c9295d3"
      },
      "execution_count": 6,
      "outputs": [
        {
          "output_type": "execute_result",
          "data": {
            "text/plain": [
              "(10000, 784)"
            ]
          },
          "metadata": {},
          "execution_count": 6
        }
      ]
    },
    {
      "cell_type": "code",
      "source": [
        "X_train_final = X_train_final / 255\n",
        "X_test_final = X_test_final / 255"
      ],
      "metadata": {
        "id": "GGaadGjPcSI3"
      },
      "execution_count": 7,
      "outputs": []
    },
    {
      "cell_type": "code",
      "source": [
        "model = keras.Sequential()\n",
        "model.add(keras.layers.Dense(10, input_shape= (784,), activation = 'softmax'))\n",
        "# model.add(keras.layers.Dense(1, input_shape= (784,), activation = 'sigmoid'))"
      ],
      "metadata": {
        "id": "JwqwOjaxcfD8"
      },
      "execution_count": 8,
      "outputs": []
    },
    {
      "cell_type": "code",
      "source": [
        "model.summary()"
      ],
      "metadata": {
        "colab": {
          "base_uri": "https://localhost:8080/"
        },
        "id": "58k5DG5vdu8a",
        "outputId": "b91b2835-70c6-4286-b21f-cf1374f23f59"
      },
      "execution_count": 9,
      "outputs": [
        {
          "output_type": "stream",
          "name": "stdout",
          "text": [
            "Model: \"sequential\"\n",
            "_________________________________________________________________\n",
            " Layer (type)                Output Shape              Param #   \n",
            "=================================================================\n",
            " dense (Dense)               (None, 10)                7850      \n",
            "                                                                 \n",
            "=================================================================\n",
            "Total params: 7,850\n",
            "Trainable params: 7,850\n",
            "Non-trainable params: 0\n",
            "_________________________________________________________________\n"
          ]
        }
      ]
    },
    {
      "cell_type": "code",
      "source": [
        "model.compile(optimizer='sgd', loss='sparse_categorical_crossentropy', metrics=['accuracy'])\n",
        "# model.compile(optimizer='sgd', loss='binary_crossentropy', metrics=['binary_accuracy'])"
      ],
      "metadata": {
        "id": "6pERnk4FdyEE"
      },
      "execution_count": 10,
      "outputs": []
    },
    {
      "cell_type": "code",
      "source": [
        "results = model.fit(\n",
        "    x = X_train_final,\n",
        "    y = y_train,\n",
        "    shuffle = True,\n",
        "    epochs = 30,\n",
        "    batch_size = 16,\n",
        "    validation_data = (X_test_final, y_test)\n",
        ")"
      ],
      "metadata": {
        "colab": {
          "base_uri": "https://localhost:8080/"
        },
        "id": "Z9Uqhz48hubZ",
        "outputId": "d325998b-1f8a-4061-f4f8-1efee3e881a4"
      },
      "execution_count": 11,
      "outputs": [
        {
          "output_type": "stream",
          "name": "stdout",
          "text": [
            "Epoch 1/30\n",
            "3750/3750 [==============================] - 16s 3ms/step - loss: 0.6174 - accuracy: 0.8478 - val_loss: 0.4020 - val_accuracy: 0.8959\n",
            "Epoch 2/30\n",
            "3750/3750 [==============================] - 10s 3ms/step - loss: 0.3931 - accuracy: 0.8927 - val_loss: 0.3505 - val_accuracy: 0.9057\n",
            "Epoch 3/30\n",
            "3750/3750 [==============================] - 10s 3ms/step - loss: 0.3569 - accuracy: 0.9011 - val_loss: 0.3272 - val_accuracy: 0.9106\n",
            "Epoch 4/30\n",
            "3750/3750 [==============================] - 11s 3ms/step - loss: 0.3380 - accuracy: 0.9061 - val_loss: 0.3156 - val_accuracy: 0.9127\n",
            "Epoch 5/30\n",
            "3750/3750 [==============================] - 10s 3ms/step - loss: 0.3258 - accuracy: 0.9096 - val_loss: 0.3079 - val_accuracy: 0.9144\n",
            "Epoch 6/30\n",
            "3750/3750 [==============================] - 10s 3ms/step - loss: 0.3175 - accuracy: 0.9116 - val_loss: 0.3003 - val_accuracy: 0.9158\n",
            "Epoch 7/30\n",
            "3750/3750 [==============================] - 10s 3ms/step - loss: 0.3107 - accuracy: 0.9131 - val_loss: 0.2963 - val_accuracy: 0.9179\n",
            "Epoch 8/30\n",
            "3750/3750 [==============================] - 10s 3ms/step - loss: 0.3053 - accuracy: 0.9145 - val_loss: 0.2922 - val_accuracy: 0.9191\n",
            "Epoch 9/30\n",
            "3750/3750 [==============================] - 10s 3ms/step - loss: 0.3011 - accuracy: 0.9162 - val_loss: 0.2908 - val_accuracy: 0.9180\n",
            "Epoch 10/30\n",
            "3750/3750 [==============================] - 11s 3ms/step - loss: 0.2974 - accuracy: 0.9174 - val_loss: 0.2876 - val_accuracy: 0.9191\n",
            "Epoch 11/30\n",
            "3750/3750 [==============================] - 10s 3ms/step - loss: 0.2942 - accuracy: 0.9181 - val_loss: 0.2850 - val_accuracy: 0.9196\n",
            "Epoch 12/30\n",
            "3750/3750 [==============================] - 10s 3ms/step - loss: 0.2915 - accuracy: 0.9186 - val_loss: 0.2835 - val_accuracy: 0.9207\n",
            "Epoch 13/30\n",
            "3750/3750 [==============================] - 10s 3ms/step - loss: 0.2891 - accuracy: 0.9195 - val_loss: 0.2828 - val_accuracy: 0.9213\n",
            "Epoch 14/30\n",
            "3750/3750 [==============================] - 10s 3ms/step - loss: 0.2869 - accuracy: 0.9203 - val_loss: 0.2805 - val_accuracy: 0.9219\n",
            "Epoch 15/30\n",
            "3750/3750 [==============================] - 10s 3ms/step - loss: 0.2851 - accuracy: 0.9205 - val_loss: 0.2796 - val_accuracy: 0.9219\n",
            "Epoch 16/30\n",
            "3750/3750 [==============================] - 10s 3ms/step - loss: 0.2832 - accuracy: 0.9211 - val_loss: 0.2804 - val_accuracy: 0.9215\n",
            "Epoch 17/30\n",
            "3750/3750 [==============================] - 10s 3ms/step - loss: 0.2815 - accuracy: 0.9218 - val_loss: 0.2776 - val_accuracy: 0.9232\n",
            "Epoch 18/30\n",
            "3750/3750 [==============================] - 10s 3ms/step - loss: 0.2801 - accuracy: 0.9222 - val_loss: 0.2773 - val_accuracy: 0.9201\n",
            "Epoch 19/30\n",
            "3750/3750 [==============================] - 10s 3ms/step - loss: 0.2788 - accuracy: 0.9229 - val_loss: 0.2765 - val_accuracy: 0.9217\n",
            "Epoch 20/30\n",
            "3750/3750 [==============================] - 10s 3ms/step - loss: 0.2775 - accuracy: 0.9230 - val_loss: 0.2750 - val_accuracy: 0.9220\n",
            "Epoch 21/30\n",
            "3750/3750 [==============================] - 10s 3ms/step - loss: 0.2763 - accuracy: 0.9233 - val_loss: 0.2748 - val_accuracy: 0.9217\n",
            "Epoch 22/30\n",
            "3750/3750 [==============================] - 10s 3ms/step - loss: 0.2753 - accuracy: 0.9235 - val_loss: 0.2741 - val_accuracy: 0.9220\n",
            "Epoch 23/30\n",
            "3750/3750 [==============================] - 10s 3ms/step - loss: 0.2743 - accuracy: 0.9239 - val_loss: 0.2738 - val_accuracy: 0.9230\n",
            "Epoch 24/30\n",
            "3750/3750 [==============================] - 10s 3ms/step - loss: 0.2733 - accuracy: 0.9246 - val_loss: 0.2740 - val_accuracy: 0.9235\n",
            "Epoch 25/30\n",
            "3750/3750 [==============================] - 10s 3ms/step - loss: 0.2726 - accuracy: 0.9243 - val_loss: 0.2723 - val_accuracy: 0.9227\n",
            "Epoch 26/30\n",
            "3750/3750 [==============================] - 10s 3ms/step - loss: 0.2716 - accuracy: 0.9247 - val_loss: 0.2724 - val_accuracy: 0.9227\n",
            "Epoch 27/30\n",
            "3750/3750 [==============================] - 10s 3ms/step - loss: 0.2708 - accuracy: 0.9253 - val_loss: 0.2730 - val_accuracy: 0.9227\n",
            "Epoch 28/30\n",
            "3750/3750 [==============================] - 10s 3ms/step - loss: 0.2699 - accuracy: 0.9251 - val_loss: 0.2719 - val_accuracy: 0.9233\n",
            "Epoch 29/30\n",
            "3750/3750 [==============================] - 10s 3ms/step - loss: 0.2693 - accuracy: 0.9258 - val_loss: 0.2713 - val_accuracy: 0.9230\n",
            "Epoch 30/30\n",
            "3750/3750 [==============================] - 10s 3ms/step - loss: 0.2685 - accuracy: 0.9259 - val_loss: 0.2708 - val_accuracy: 0.9231\n"
          ]
        }
      ]
    },
    {
      "cell_type": "code",
      "source": [
        "import matplotlib.pyplot as plt"
      ],
      "metadata": {
        "id": "w0wdLlrXkRQS"
      },
      "execution_count": 12,
      "outputs": []
    },
    {
      "cell_type": "code",
      "source": [
        "plt.plot(results.history['loss'])\n",
        "plt.plot(results.history['val_loss'])\n",
        "plt.legend(['Training', 'Validation'])\n",
        "plt.title('Training and Validation Losses')\n",
        "plt.xlabel('epoch')\n",
        "plt.ylabel('Losses')\n"
      ],
      "metadata": {
        "colab": {
          "base_uri": "https://localhost:8080/",
          "height": 312
        },
        "id": "Gm6uiT24kPTt",
        "outputId": "0299d56b-4f4d-451c-ba53-5d193c6b939e"
      },
      "execution_count": 13,
      "outputs": [
        {
          "output_type": "execute_result",
          "data": {
            "text/plain": [
              "Text(0, 0.5, 'Losses')"
            ]
          },
          "metadata": {},
          "execution_count": 13
        },
        {
          "output_type": "display_data",
          "data": {
            "text/plain": [
              "<Figure size 432x288 with 1 Axes>"
            ],
            "image/png": "[encoded data removed]"
          },
          "metadata": {
            "needs_background": "light"
          }
        }
      ]
    },
    {
      "cell_type": "code",
      "source": [
        "plt.plot(results.history['accuracy'])\n",
        "plt.plot(results.history['val_accuracy'])\n",
        "plt.legend(['Training', 'Validation'])\n",
        "plt.title('Training and Validation accuarcy')\n",
        "plt.xlabel('epoch')\n",
        "plt.ylabel('accuarcy')\n"
      ],
      "metadata": {
        "colab": {
          "base_uri": "https://localhost:8080/",
          "height": 312
        },
        "id": "jiiwD9zFllbA",
        "outputId": "808a13c3-7df6-4118-ae6a-259fecdfdc6f"
      },
      "execution_count": 14,
      "outputs": [
        {
          "output_type": "execute_result",
          "data": {
            "text/plain": [
              "Text(0, 0.5, 'accuarcy')"
            ]
          },
          "metadata": {},
          "execution_count": 14
        },
        {
          "output_type": "display_data",
          "data": {
            "text/plain": [
              "<Figure size 432x288 with 1 Axes>"
            ],
            "image/png": "[encoded data removed]"
          },
          "metadata": {
            "needs_background": "light"
          }
        }
      ]
    },
    {
      "cell_type": "code",
      "source": [
        "# plt.plot(results.history['binary_accuracy'])\n",
        "# plt.plot(results.history['binary_val_accuracy'])\n",
        "# plt.legend(['Training', 'Validation'])\n",
        "# plt.title('Training and Validation accuarcy')\n",
        "# plt.xlabel('epoch')\n",
        "# plt.ylabel('accuarcy')\n"
      ],
      "metadata": {
        "id": "7CfnSMonz3GW"
      },
      "execution_count": 15,
      "outputs": []
    },
    {
      "cell_type": "code",
      "source": [
        ""
      ],
      "metadata": {
        "id": "We_tNLhf0Nvo"
      },
      "execution_count": null,
      "outputs": []
    }
  ]
}