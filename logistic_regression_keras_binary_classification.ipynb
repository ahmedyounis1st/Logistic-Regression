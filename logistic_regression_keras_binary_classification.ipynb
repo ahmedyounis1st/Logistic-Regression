{
  "nbformat": 4,
  "nbformat_minor": 0,
  "metadata": {
    "colab": {
      "name": "Untitled3.ipynb",
      "provenance": []
    },
    "kernelspec": {
      "name": "python3",
      "display_name": "Python 3"
    },
    "language_info": {
      "name": "python"
    },
    "accelerator": "GPU"
  },
  "cells": [
    {
      "cell_type": "code",
      "execution_count": 1,
      "metadata": {
        "colab": {
          "base_uri": "https://localhost:8080/"
        },
        "id": "G8rDIaLsXHDz",
        "outputId": "5f57b292-17d3-4265-c369-17d7c7f51042"
      },
      "outputs": [
        {
          "output_type": "stream",
          "name": "stdout",
          "text": [
            "2.8.0\n"
          ]
        }
      ],
      "source": [
        "import numpy as np\n",
        "from tensorflow import keras\n",
        "print (keras.__version__)\n"
      ]
    },
    {
      "cell_type": "code",
      "source": [
        "from keras.datasets import mnist\n",
        "(X_train, y_train), (X_test, y_test) = mnist.load_data()\n"
      ],
      "metadata": {
        "id": "bxhXidorXwU8"
      },
      "execution_count": 2,
      "outputs": []
    },
    {
      "cell_type": "code",
      "source": [
        "X_train, y_train = X_train[(y_train==0) | (y_train==1)], y_train[(y_train==0) | (y_train==1)]"
      ],
      "metadata": {
        "id": "Ypql9cdlx1VY"
      },
      "execution_count": 3,
      "outputs": []
    },
    {
      "cell_type": "code",
      "source": [
        "X_test, y_test = X_test[(y_test==0) | (y_test==1)], y_test[(y_test==0) | (y_test==1)]\n"
      ],
      "metadata": {
        "id": "77nWtjbLyMRq"
      },
      "execution_count": 4,
      "outputs": []
    },
    {
      "cell_type": "code",
      "source": [
        "X_train.shape"
      ],
      "metadata": {
        "colab": {
          "base_uri": "https://localhost:8080/"
        },
        "id": "0HZICpafYUGQ",
        "outputId": "181950eb-eb0b-43c5-b277-ef5a8d23873c"
      },
      "execution_count": 5,
      "outputs": [
        {
          "output_type": "execute_result",
          "data": {
            "text/plain": [
              "(12665, 28, 28)"
            ]
          },
          "metadata": {},
          "execution_count": 5
        }
      ]
    },
    {
      "cell_type": "code",
      "source": [
        "from collections import Counter\n",
        "Counter(y_train)"
      ],
      "metadata": {
        "colab": {
          "base_uri": "https://localhost:8080/"
        },
        "id": "6XlSgo9UYoEE",
        "outputId": "81292ef2-3290-4808-839d-bb716ab974ce"
      },
      "execution_count": 6,
      "outputs": [
        {
          "output_type": "execute_result",
          "data": {
            "text/plain": [
              "Counter({0: 5923, 1: 6742})"
            ]
          },
          "metadata": {},
          "execution_count": 6
        }
      ]
    },
    {
      "cell_type": "code",
      "source": [
        "X_train_final = X_train.reshape(-1,784)\n",
        "X_train_final.shape"
      ],
      "metadata": {
        "colab": {
          "base_uri": "https://localhost:8080/"
        },
        "id": "zNt4qckKY0EF",
        "outputId": "49a7b530-fc7b-4bbd-f723-a45db9ceb727"
      },
      "execution_count": 7,
      "outputs": [
        {
          "output_type": "execute_result",
          "data": {
            "text/plain": [
              "(12665, 784)"
            ]
          },
          "metadata": {},
          "execution_count": 7
        }
      ]
    },
    {
      "cell_type": "code",
      "source": [
        "X_test_final = X_test.reshape(-1,784)\n",
        "X_test_final.shape"
      ],
      "metadata": {
        "colab": {
          "base_uri": "https://localhost:8080/"
        },
        "id": "ZT4eR4aZZ950",
        "outputId": "caf1be41-89fb-4ad1-ce54-1ef5d84bcc05"
      },
      "execution_count": 8,
      "outputs": [
        {
          "output_type": "execute_result",
          "data": {
            "text/plain": [
              "(2115, 784)"
            ]
          },
          "metadata": {},
          "execution_count": 8
        }
      ]
    },
    {
      "cell_type": "code",
      "source": [
        "X_train_final = X_train_final / 255\n",
        "X_test_final = X_test_final / 255"
      ],
      "metadata": {
        "id": "GGaadGjPcSI3"
      },
      "execution_count": 9,
      "outputs": []
    },
    {
      "cell_type": "code",
      "source": [
        "model = keras.Sequential()\n",
        "model.add(keras.layers.Dense(1, input_shape= (784,), activation = 'sigmoid'))\n",
        "# model.add(keras.layers.Dense(10, input_shape= (784,), activation = 'softmax'))"
      ],
      "metadata": {
        "id": "JwqwOjaxcfD8"
      },
      "execution_count": 10,
      "outputs": []
    },
    {
      "cell_type": "code",
      "source": [
        "model.summary()"
      ],
      "metadata": {
        "colab": {
          "base_uri": "https://localhost:8080/"
        },
        "id": "58k5DG5vdu8a",
        "outputId": "4caf30fb-56ea-4d5b-c9cf-0d3bfd0b6c3e"
      },
      "execution_count": 11,
      "outputs": [
        {
          "output_type": "stream",
          "name": "stdout",
          "text": [
            "Model: \"sequential\"\n",
            "_________________________________________________________________\n",
            " Layer (type)                Output Shape              Param #   \n",
            "=================================================================\n",
            " dense (Dense)               (None, 1)                 785       \n",
            "                                                                 \n",
            "=================================================================\n",
            "Total params: 785\n",
            "Trainable params: 785\n",
            "Non-trainable params: 0\n",
            "_________________________________________________________________\n"
          ]
        }
      ]
    },
    {
      "cell_type": "code",
      "source": [
        "model.compile(optimizer='sgd', loss='binary_crossentropy', metrics=['binary_accuracy'])\n",
        "# model.compile(optimizer='sgd', loss='sparse_categorical_crossentropy', metrics=['accuracy'])"
      ],
      "metadata": {
        "id": "6pERnk4FdyEE"
      },
      "execution_count": 12,
      "outputs": []
    },
    {
      "cell_type": "code",
      "source": [
        "results = model.fit(\n",
        "    x = X_train_final,\n",
        "    y = y_train,\n",
        "    shuffle = True,\n",
        "    epochs = 30,\n",
        "    batch_size = 16,\n",
        "    validation_data = (X_test_final, y_test)\n",
        ")"
      ],
      "metadata": {
        "colab": {
          "base_uri": "https://localhost:8080/"
        },
        "id": "Z9Uqhz48hubZ",
        "outputId": "8050e032-bb60-43d5-cf0c-0a3990f6e762"
      },
      "execution_count": 13,
      "outputs": [
        {
          "output_type": "stream",
          "name": "stdout",
          "text": [
            "Epoch 1/30\n",
            "792/792 [==============================] - 7s 8ms/step - loss: 0.0740 - binary_accuracy: 0.9936 - val_loss: 0.0208 - val_binary_accuracy: 0.9991\n",
            "Epoch 2/30\n",
            "792/792 [==============================] - 5s 6ms/step - loss: 0.0210 - binary_accuracy: 0.9974 - val_loss: 0.0123 - val_binary_accuracy: 0.9991\n",
            "Epoch 3/30\n",
            "792/792 [==============================] - 3s 4ms/step - loss: 0.0152 - binary_accuracy: 0.9976 - val_loss: 0.0092 - val_binary_accuracy: 0.9991\n",
            "Epoch 4/30\n",
            "792/792 [==============================] - 3s 4ms/step - loss: 0.0125 - binary_accuracy: 0.9977 - val_loss: 0.0076 - val_binary_accuracy: 0.9991\n",
            "Epoch 5/30\n",
            "792/792 [==============================] - 3s 4ms/step - loss: 0.0109 - binary_accuracy: 0.9979 - val_loss: 0.0066 - val_binary_accuracy: 0.9991\n",
            "Epoch 6/30\n",
            "792/792 [==============================] - 3s 4ms/step - loss: 0.0099 - binary_accuracy: 0.9979 - val_loss: 0.0058 - val_binary_accuracy: 0.9991\n",
            "Epoch 7/30\n",
            "792/792 [==============================] - 3s 4ms/step - loss: 0.0091 - binary_accuracy: 0.9981 - val_loss: 0.0053 - val_binary_accuracy: 0.9991\n",
            "Epoch 8/30\n",
            "792/792 [==============================] - 3s 4ms/step - loss: 0.0085 - binary_accuracy: 0.9981 - val_loss: 0.0049 - val_binary_accuracy: 0.9991\n",
            "Epoch 9/30\n",
            "792/792 [==============================] - 3s 4ms/step - loss: 0.0080 - binary_accuracy: 0.9982 - val_loss: 0.0046 - val_binary_accuracy: 0.9991\n",
            "Epoch 10/30\n",
            "792/792 [==============================] - 3s 4ms/step - loss: 0.0076 - binary_accuracy: 0.9984 - val_loss: 0.0043 - val_binary_accuracy: 0.9991\n",
            "Epoch 11/30\n",
            "792/792 [==============================] - 3s 4ms/step - loss: 0.0073 - binary_accuracy: 0.9983 - val_loss: 0.0041 - val_binary_accuracy: 0.9995\n",
            "Epoch 12/30\n",
            "792/792 [==============================] - 3s 4ms/step - loss: 0.0070 - binary_accuracy: 0.9983 - val_loss: 0.0039 - val_binary_accuracy: 0.9995\n",
            "Epoch 13/30\n",
            "792/792 [==============================] - 3s 4ms/step - loss: 0.0067 - binary_accuracy: 0.9985 - val_loss: 0.0038 - val_binary_accuracy: 0.9995\n",
            "Epoch 14/30\n",
            "792/792 [==============================] - 3s 4ms/step - loss: 0.0065 - binary_accuracy: 0.9985 - val_loss: 0.0037 - val_binary_accuracy: 0.9995\n",
            "Epoch 15/30\n",
            "792/792 [==============================] - 3s 4ms/step - loss: 0.0063 - binary_accuracy: 0.9986 - val_loss: 0.0035 - val_binary_accuracy: 0.9995\n",
            "Epoch 16/30\n",
            "792/792 [==============================] - 5s 6ms/step - loss: 0.0061 - binary_accuracy: 0.9986 - val_loss: 0.0034 - val_binary_accuracy: 0.9995\n",
            "Epoch 17/30\n",
            "792/792 [==============================] - 3s 4ms/step - loss: 0.0060 - binary_accuracy: 0.9986 - val_loss: 0.0033 - val_binary_accuracy: 0.9995\n",
            "Epoch 18/30\n",
            "792/792 [==============================] - 3s 4ms/step - loss: 0.0058 - binary_accuracy: 0.9986 - val_loss: 0.0033 - val_binary_accuracy: 0.9995\n",
            "Epoch 19/30\n",
            "792/792 [==============================] - 3s 4ms/step - loss: 0.0057 - binary_accuracy: 0.9986 - val_loss: 0.0032 - val_binary_accuracy: 0.9995\n",
            "Epoch 20/30\n",
            "792/792 [==============================] - 3s 4ms/step - loss: 0.0056 - binary_accuracy: 0.9986 - val_loss: 0.0031 - val_binary_accuracy: 0.9995\n",
            "Epoch 21/30\n",
            "792/792 [==============================] - 3s 4ms/step - loss: 0.0055 - binary_accuracy: 0.9986 - val_loss: 0.0031 - val_binary_accuracy: 0.9995\n",
            "Epoch 22/30\n",
            "792/792 [==============================] - 3s 4ms/step - loss: 0.0054 - binary_accuracy: 0.9986 - val_loss: 0.0030 - val_binary_accuracy: 0.9995\n",
            "Epoch 23/30\n",
            "792/792 [==============================] - 3s 4ms/step - loss: 0.0053 - binary_accuracy: 0.9986 - val_loss: 0.0029 - val_binary_accuracy: 0.9995\n",
            "Epoch 24/30\n",
            "792/792 [==============================] - 3s 4ms/step - loss: 0.0052 - binary_accuracy: 0.9986 - val_loss: 0.0029 - val_binary_accuracy: 0.9995\n",
            "Epoch 25/30\n",
            "792/792 [==============================] - 3s 4ms/step - loss: 0.0051 - binary_accuracy: 0.9986 - val_loss: 0.0029 - val_binary_accuracy: 0.9995\n",
            "Epoch 26/30\n",
            "792/792 [==============================] - 4s 5ms/step - loss: 0.0050 - binary_accuracy: 0.9986 - val_loss: 0.0028 - val_binary_accuracy: 0.9995\n",
            "Epoch 27/30\n",
            "792/792 [==============================] - 3s 4ms/step - loss: 0.0049 - binary_accuracy: 0.9986 - val_loss: 0.0028 - val_binary_accuracy: 0.9995\n",
            "Epoch 28/30\n",
            "792/792 [==============================] - 3s 4ms/step - loss: 0.0049 - binary_accuracy: 0.9986 - val_loss: 0.0027 - val_binary_accuracy: 0.9995\n",
            "Epoch 29/30\n",
            "792/792 [==============================] - 3s 4ms/step - loss: 0.0048 - binary_accuracy: 0.9986 - val_loss: 0.0027 - val_binary_accuracy: 0.9995\n",
            "Epoch 30/30\n",
            "792/792 [==============================] - 3s 4ms/step - loss: 0.0047 - binary_accuracy: 0.9987 - val_loss: 0.0027 - val_binary_accuracy: 0.9995\n"
          ]
        }
      ]
    },
    {
      "cell_type": "code",
      "source": [
        "import matplotlib.pyplot as plt"
      ],
      "metadata": {
        "id": "w0wdLlrXkRQS"
      },
      "execution_count": 14,
      "outputs": []
    },
    {
      "cell_type": "code",
      "source": [
        "plt.plot(results.history['loss'])\n",
        "plt.plot(results.history['val_loss'])\n",
        "plt.legend(['Training', 'Validation'])\n",
        "plt.title('Training and Validation Losses')\n",
        "plt.xlabel('epoch')\n",
        "plt.ylabel('Losses')\n"
      ],
      "metadata": {
        "colab": {
          "base_uri": "https://localhost:8080/",
          "height": 312
        },
        "id": "Gm6uiT24kPTt",
        "outputId": "40ce20b1-f018-4001-e63d-585a9d6835d3"
      },
      "execution_count": 15,
      "outputs": [
        {
          "output_type": "execute_result",
          "data": {
            "text/plain": [
              "Text(0, 0.5, 'Losses')"
            ]
          },
          "metadata": {},
          "execution_count": 15
        },
        {
          "output_type": "display_data",
          "data": {
            "text/plain": [
              "<Figure size 432x288 with 1 Axes>"
            ],
            "image/png": "[encoded data removed]"
          },
          "metadata": {
            "needs_background": "light"
          }
        }
      ]
    },
    {
      "cell_type": "code",
      "source": [
        "plt.plot(results.history['binary_accuracy'])\n",
        "plt.plot(results.history['val_binary_accuracy'])\n",
        "plt.legend(['Training', 'Validation'])\n",
        "plt.title('Training and Validation accuarcy')\n",
        "plt.xlabel('epoch')\n",
        "plt.ylabel('accuarcy')\n"
      ],
      "metadata": {
        "colab": {
          "base_uri": "https://localhost:8080/",
          "height": 312
        },
        "id": "jiiwD9zFllbA",
        "outputId": "4356a39d-e509-4565-9592-0d29199e2f7d"
      },
      "execution_count": 16,
      "outputs": [
        {
          "output_type": "execute_result",
          "data": {
            "text/plain": [
              "Text(0, 0.5, 'accuarcy')"
            ]
          },
          "metadata": {},
          "execution_count": 16
        },
        {
          "output_type": "display_data",
          "data": {
            "text/plain": [
              "<Figure size 432x288 with 1 Axes>"
            ],
            "image/png": "[encoded data removed]"
          },
          "metadata": {
            "needs_background": "light"
          }
        }
      ]
    },
    {
      "cell_type": "code",
      "source": [
        "# plt.plot(results.history['accuracy'])\n",
        "# plt.plot(results.history['val_accuracy'])\n",
        "# plt.legend(['Training', 'Validation'])\n",
        "# plt.title('Training and Validation accuarcy')\n",
        "# plt.xlabel('epoch')\n",
        "# plt.ylabel('accuarcy')\n"
      ],
      "metadata": {
        "id": "aQqJMbkWwXjN"
      },
      "execution_count": 17,
      "outputs": []
    }
  ]
}