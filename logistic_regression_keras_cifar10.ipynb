{
  "nbformat": 4,
  "nbformat_minor": 0,
  "metadata": {
    "colab": {
      "name": "Untitled4.ipynb",
      "provenance": []
    },
    "kernelspec": {
      "name": "python3",
      "display_name": "Python 3"
    },
    "language_info": {
      "name": "python"
    },
    "accelerator": "GPU"
  },
  "cells": [
    {
      "cell_type": "code",
      "execution_count": null,
      "metadata": {
        "colab": {
          "base_uri": "https://localhost:8080/"
        },
        "id": "G8rDIaLsXHDz",
        "outputId": "04dcde81-eca4-4f25-f7cc-c3838ce3d7cb"
      },
      "outputs": [
        {
          "output_type": "stream",
          "name": "stdout",
          "text": [
            "2.8.0\n"
          ]
        }
      ],
      "source": [
        "import numpy as np\n",
        "from tensorflow import keras\n",
        "print (keras.__version__)\n"
      ]
    },
    {
      "cell_type": "code",
      "source": [
        "from keras.datasets import cifar10\n",
        "(X_train, y_train), (X_test, y_test) = cifar10.load_data()\n"
      ],
      "metadata": {
        "id": "bxhXidorXwU8"
      },
      "execution_count": null,
      "outputs": []
    },
    {
      "cell_type": "code",
      "source": [
        "X_train.shape"
      ],
      "metadata": {
        "colab": {
          "base_uri": "https://localhost:8080/"
        },
        "id": "0HZICpafYUGQ",
        "outputId": "824b00ce-874b-4def-82e8-56a95adc41e5"
      },
      "execution_count": null,
      "outputs": [
        {
          "output_type": "execute_result",
          "data": {
            "text/plain": [
              "(50000, 32, 32, 3)"
            ]
          },
          "metadata": {},
          "execution_count": 3
        }
      ]
    },
    {
      "cell_type": "code",
      "source": [
        "y_train[:10]"
      ],
      "metadata": {
        "colab": {
          "base_uri": "https://localhost:8080/"
        },
        "id": "eSl_Cjh-3KQ2",
        "outputId": "419462b1-c064-4b1b-b992-b3516badeb4b"
      },
      "execution_count": null,
      "outputs": [
        {
          "output_type": "execute_result",
          "data": {
            "text/plain": [
              "array([[6],\n",
              "       [9],\n",
              "       [9],\n",
              "       [4],\n",
              "       [1],\n",
              "       [1],\n",
              "       [2],\n",
              "       [7],\n",
              "       [8],\n",
              "       [3]], dtype=uint8)"
            ]
          },
          "metadata": {},
          "execution_count": 4
        }
      ]
    },
    {
      "cell_type": "code",
      "source": [
        "X_train_final = X_train.reshape(-1,3072)\n",
        "X_train_final.shape"
      ],
      "metadata": {
        "colab": {
          "base_uri": "https://localhost:8080/"
        },
        "id": "zNt4qckKY0EF",
        "outputId": "fef373d0-2398-4cd7-d908-4818e5dda5dd"
      },
      "execution_count": null,
      "outputs": [
        {
          "output_type": "execute_result",
          "data": {
            "text/plain": [
              "(50000, 3072)"
            ]
          },
          "metadata": {},
          "execution_count": 5
        }
      ]
    },
    {
      "cell_type": "code",
      "source": [
        "X_test_final = X_test.reshape(-1,3072)\n",
        "X_test_final.shape"
      ],
      "metadata": {
        "colab": {
          "base_uri": "https://localhost:8080/"
        },
        "id": "ZT4eR4aZZ950",
        "outputId": "c4a6ce07-9a7b-46aa-beee-4c88a8fc4f67"
      },
      "execution_count": null,
      "outputs": [
        {
          "output_type": "execute_result",
          "data": {
            "text/plain": [
              "(10000, 3072)"
            ]
          },
          "metadata": {},
          "execution_count": 6
        }
      ]
    },
    {
      "cell_type": "code",
      "source": [
        "X_train_final = X_train_final / 255\n",
        "X_test_final = X_test_final / 255"
      ],
      "metadata": {
        "id": "GGaadGjPcSI3"
      },
      "execution_count": null,
      "outputs": []
    },
    {
      "cell_type": "code",
      "source": [
        "model = keras.Sequential()\n",
        "model.add(keras.layers.Dense(10, input_shape= (3072,), activation = 'softmax'))"
      ],
      "metadata": {
        "id": "JwqwOjaxcfD8"
      },
      "execution_count": null,
      "outputs": []
    },
    {
      "cell_type": "code",
      "source": [
        "model.summary()"
      ],
      "metadata": {
        "colab": {
          "base_uri": "https://localhost:8080/"
        },
        "id": "58k5DG5vdu8a",
        "outputId": "ea1910f9-3337-434b-cfd6-af1a5c9dfa17"
      },
      "execution_count": null,
      "outputs": [
        {
          "output_type": "stream",
          "name": "stdout",
          "text": [
            "Model: \"sequential\"\n",
            "_________________________________________________________________\n",
            " Layer (type)                Output Shape              Param #   \n",
            "=================================================================\n",
            " dense (Dense)               (None, 10)                30730     \n",
            "                                                                 \n",
            "=================================================================\n",
            "Total params: 30,730\n",
            "Trainable params: 30,730\n",
            "Non-trainable params: 0\n",
            "_________________________________________________________________\n"
          ]
        }
      ]
    },
    {
      "cell_type": "code",
      "source": [
        "model.compile(optimizer='sgd', loss='sparse_categorical_crossentropy', metrics=['accuracy'])\n"
      ],
      "metadata": {
        "id": "6pERnk4FdyEE"
      },
      "execution_count": null,
      "outputs": []
    },
    {
      "cell_type": "code",
      "source": [
        "results = model.fit(\n",
        "    x = X_train_final,\n",
        "    y = y_train,\n",
        "    shuffle = True,\n",
        "    epochs = 30,\n",
        "    batch_size = 16,\n",
        "    validation_data = (X_test_final, y_test)\n",
        ")"
      ],
      "metadata": {
        "colab": {
          "base_uri": "https://localhost:8080/"
        },
        "id": "Z9Uqhz48hubZ",
        "outputId": "ac0f9627-e609-4d96-dc00-27229966551f"
      },
      "execution_count": null,
      "outputs": [
        {
          "output_type": "stream",
          "name": "stdout",
          "text": [
            "Epoch 1/30\n",
            "3125/3125 [==============================] - 12s 4ms/step - loss: 1.9889 - accuracy: 0.2966 - val_loss: 1.9096 - val_accuracy: 0.3287\n",
            "Epoch 2/30\n",
            "3125/3125 [==============================] - 7s 2ms/step - loss: 1.8907 - accuracy: 0.3408 - val_loss: 1.8704 - val_accuracy: 0.3407\n",
            "Epoch 3/30\n",
            "3125/3125 [==============================] - 7s 2ms/step - loss: 1.8627 - accuracy: 0.3531 - val_loss: 1.8379 - val_accuracy: 0.3520\n",
            "Epoch 4/30\n",
            "3125/3125 [==============================] - 7s 2ms/step - loss: 1.8404 - accuracy: 0.3608 - val_loss: 1.9013 - val_accuracy: 0.3355\n",
            "Epoch 5/30\n",
            "3125/3125 [==============================] - 7s 2ms/step - loss: 1.8321 - accuracy: 0.3670 - val_loss: 1.8090 - val_accuracy: 0.3809\n",
            "Epoch 6/30\n",
            "3125/3125 [==============================] - 7s 2ms/step - loss: 1.8207 - accuracy: 0.3717 - val_loss: 1.9288 - val_accuracy: 0.3313\n",
            "Epoch 7/30\n",
            "3125/3125 [==============================] - 7s 2ms/step - loss: 1.8175 - accuracy: 0.3750 - val_loss: 1.8530 - val_accuracy: 0.3571\n",
            "Epoch 8/30\n",
            "3125/3125 [==============================] - 7s 2ms/step - loss: 1.8051 - accuracy: 0.3767 - val_loss: 1.8245 - val_accuracy: 0.3633\n",
            "Epoch 9/30\n",
            "3125/3125 [==============================] - 7s 2ms/step - loss: 1.8035 - accuracy: 0.3781 - val_loss: 1.8809 - val_accuracy: 0.3622\n",
            "Epoch 10/30\n",
            "3125/3125 [==============================] - 8s 2ms/step - loss: 1.7974 - accuracy: 0.3791 - val_loss: 1.9071 - val_accuracy: 0.3510\n",
            "Epoch 11/30\n",
            "3125/3125 [==============================] - 7s 2ms/step - loss: 1.7953 - accuracy: 0.3809 - val_loss: 1.8100 - val_accuracy: 0.3749\n",
            "Epoch 12/30\n",
            "3125/3125 [==============================] - 7s 2ms/step - loss: 1.7898 - accuracy: 0.3827 - val_loss: 1.9397 - val_accuracy: 0.3183\n",
            "Epoch 13/30\n",
            "3125/3125 [==============================] - 7s 2ms/step - loss: 1.7856 - accuracy: 0.3846 - val_loss: 1.8937 - val_accuracy: 0.3622\n",
            "Epoch 14/30\n",
            "3125/3125 [==============================] - 7s 2ms/step - loss: 1.7827 - accuracy: 0.3837 - val_loss: 1.8323 - val_accuracy: 0.3586\n",
            "Epoch 15/30\n",
            "3125/3125 [==============================] - 7s 2ms/step - loss: 1.7787 - accuracy: 0.3882 - val_loss: 1.9433 - val_accuracy: 0.3216\n",
            "Epoch 16/30\n",
            "3125/3125 [==============================] - 7s 2ms/step - loss: 1.7768 - accuracy: 0.3900 - val_loss: 1.8265 - val_accuracy: 0.3785\n",
            "Epoch 17/30\n",
            "3125/3125 [==============================] - 7s 2ms/step - loss: 1.7710 - accuracy: 0.3914 - val_loss: 1.9660 - val_accuracy: 0.3262\n",
            "Epoch 18/30\n",
            "3125/3125 [==============================] - 7s 2ms/step - loss: 1.7778 - accuracy: 0.3890 - val_loss: 1.8889 - val_accuracy: 0.3554\n",
            "Epoch 19/30\n",
            "3125/3125 [==============================] - 7s 2ms/step - loss: 1.7709 - accuracy: 0.3919 - val_loss: 1.8495 - val_accuracy: 0.3599\n",
            "Epoch 20/30\n",
            "3125/3125 [==============================] - 7s 2ms/step - loss: 1.7704 - accuracy: 0.3922 - val_loss: 1.8802 - val_accuracy: 0.3527\n",
            "Epoch 21/30\n",
            "3125/3125 [==============================] - 7s 2ms/step - loss: 1.7681 - accuracy: 0.3924 - val_loss: 1.8485 - val_accuracy: 0.3607\n",
            "Epoch 22/30\n",
            "3125/3125 [==============================] - 7s 2ms/step - loss: 1.7668 - accuracy: 0.3916 - val_loss: 1.9539 - val_accuracy: 0.3511\n",
            "Epoch 23/30\n",
            "3125/3125 [==============================] - 7s 2ms/step - loss: 1.7633 - accuracy: 0.3935 - val_loss: 1.8077 - val_accuracy: 0.3879\n",
            "Epoch 24/30\n",
            "3125/3125 [==============================] - 7s 2ms/step - loss: 1.7604 - accuracy: 0.3955 - val_loss: 1.8936 - val_accuracy: 0.3579\n",
            "Epoch 25/30\n",
            "3125/3125 [==============================] - 7s 2ms/step - loss: 1.7600 - accuracy: 0.3963 - val_loss: 1.8329 - val_accuracy: 0.3739\n",
            "Epoch 26/30\n",
            "3125/3125 [==============================] - 7s 2ms/step - loss: 1.7610 - accuracy: 0.3971 - val_loss: 1.8534 - val_accuracy: 0.3649\n",
            "Epoch 27/30\n",
            "3125/3125 [==============================] - 7s 2ms/step - loss: 1.7623 - accuracy: 0.3948 - val_loss: 1.8968 - val_accuracy: 0.3449\n",
            "Epoch 28/30\n",
            "3125/3125 [==============================] - 7s 2ms/step - loss: 1.7568 - accuracy: 0.3970 - val_loss: 1.8706 - val_accuracy: 0.3632\n",
            "Epoch 29/30\n",
            "3125/3125 [==============================] - 7s 2ms/step - loss: 1.7511 - accuracy: 0.3981 - val_loss: 1.8582 - val_accuracy: 0.3578\n",
            "Epoch 30/30\n",
            "3125/3125 [==============================] - 7s 2ms/step - loss: 1.7529 - accuracy: 0.3985 - val_loss: 1.8935 - val_accuracy: 0.3349\n"
          ]
        }
      ]
    },
    {
      "cell_type": "code",
      "source": [
        "import matplotlib.pyplot as plt"
      ],
      "metadata": {
        "id": "w0wdLlrXkRQS"
      },
      "execution_count": null,
      "outputs": []
    },
    {
      "cell_type": "code",
      "source": [
        "plt.plot(results.history['loss'])\n",
        "plt.plot(results.history['val_loss'])\n",
        "plt.legend(['Training', 'Validation'])\n",
        "plt.title('Training and Validation Losses')\n",
        "plt.xlabel('epoch')\n",
        "plt.ylabel('Losses')\n"
      ],
      "metadata": {
        "colab": {
          "base_uri": "https://localhost:8080/",
          "height": 313
        },
        "id": "Gm6uiT24kPTt",
        "outputId": "7f310785-2a72-4031-c471-83f56db66cce"
      },
      "execution_count": null,
      "outputs": [
        {
          "output_type": "execute_result",
          "data": {
            "text/plain": [
              "Text(0, 0.5, 'Losses')"
            ]
          },
          "metadata": {},
          "execution_count": 13
        },
        {
          "output_type": "display_data",
          "data": {
            "text/plain": [
              "<Figure size 432x288 with 1 Axes>"
            ],
            "image/png": "[encoded data removed]"
          },
          "metadata": {
            "needs_background": "light"
          }
        }
      ]
    },
    {
      "cell_type": "code",
      "source": [
        "plt.plot(results.history['accuracy'])\n",
        "plt.plot(results.history['val_accuracy'])\n",
        "plt.legend(['Training', 'Validation'])\n",
        "plt.title('Training and Validation accuarcy')\n",
        "plt.xlabel('epoch')\n",
        "plt.ylabel('accuarcy')\n"
      ],
      "metadata": {
        "colab": {
          "base_uri": "https://localhost:8080/",
          "height": 313
        },
        "id": "jiiwD9zFllbA",
        "outputId": "25b8e625-2946-4bfa-e7a1-00c50d934a8e"
      },
      "execution_count": null,
      "outputs": [
        {
          "output_type": "execute_result",
          "data": {
            "text/plain": [
              "Text(0, 0.5, 'accuarcy')"
            ]
          },
          "metadata": {},
          "execution_count": 14
        },
        {
          "output_type": "display_data",
          "data": {
            "text/plain": [
              "<Figure size 432x288 with 1 Axes>"
            ],
            "image/png": "[encoded data removed]"
          },
          "metadata": {
            "needs_background": "light"
          }
        }
      ]
    }
  ]
}